{
 "cells": [
  {
   "cell_type": "markdown",
   "metadata": {},
   "source": [
    "# InterestBasic\n",
    "\n",
    "Author: Sha Yuan (2018), Yuteng Huang (2025)\n",
    "\n",
    "## Preparation\n",
    "\n",
    "Install the packages:\n",
    "\n",
    "```\n",
    "pip install pandas numpy scikit-learn gensim keras nltk tensorflow matplotlib\n",
    "```\n",
    "\n",
    "Ensure your directory structure:\n",
    "\n",
    "```\n",
    "/\n",
    "- this_notebook.ipynb\n",
    "- /data/\n",
    "  - labels.txt\n",
    "  - papers.txt\n",
    "  - training.txt\n",
    "  - validation.txt\n",
    "```\n"
   ]
  },
  {
   "cell_type": "code",
   "execution_count": 1,
   "metadata": {},
   "outputs": [
    {
     "name": "stdout",
     "output_type": "stream",
     "text": [
      "Number of training samples: 3000\n",
      "First lines:\n",
      "['Daniel J. Paulish', 'software engineering,software architecture,software design', 'José Cristóbal Riquelme Santos', 'neural networks,machine learning,evolutionary algorithm', 'Fernando C. N. Pereira']\n"
     ]
    }
   ],
   "source": [
    "MAX_TRAIN_SAMPLES = 3000\n",
    "\n",
    "# Preprocessing\n",
    "with open(\"data/training.txt\", \"r\", encoding=\"utf-8\") as f:\n",
    "    # Reads the file and stores strings (which is separated by '\\n') into a list\n",
    "    train = [s.strip() for s in f.readlines()]\n",
    "    # Filters the empty string which is the empty rows in train.txt\n",
    "    train = list(filter(lambda s: s, train))\n",
    "    # Limits the number of training samples\n",
    "    train = train[:min(MAX_TRAIN_SAMPLES, len(train))]\n",
    "\n",
    "print(f\"Number of training samples: {len(train)}\", )\n",
    "print(f\"First lines:\\n{train[:5]}\")"
   ]
  },
  {
   "cell_type": "code",
   "execution_count": 2,
   "metadata": {},
   "outputs": [
    {
     "name": "stdout",
     "output_type": "stream",
     "text": [
      "First authors:\n",
      "                           author              Interest1  \\\n",
      "0               Daniel J. Paulish   software engineering   \n",
      "1  José Cristóbal Riquelme Santos        neural networks   \n",
      "2          Fernando C. N. Pereira       computer science   \n",
      "3                    Juan de Lara       computer science   \n",
      "4                 Stefano Lonardi  computational biology   \n",
      "\n",
      "                     Interest2               Interest3  \n",
      "0        software architecture         software design  \n",
      "1             machine learning  evolutionary algorithm  \n",
      "2  natural language processing      speech recognition  \n",
      "3         software engineering          model checking  \n",
      "4               bioinformatics             data mining  \n"
     ]
    }
   ],
   "source": [
    "import pandas as pd\n",
    "\n",
    "authors = []\n",
    "labels1 = []\n",
    "labels2 = []\n",
    "labels3 = []\n",
    "for idx, item in enumerate(train):\n",
    "    if idx % 2 == 0:\n",
    "        authors.append(item)\n",
    "    else:\n",
    "        item = item.split(\",\")\n",
    "        labels1.append(item[0])\n",
    "        labels2.append(item[1])\n",
    "        labels3.append(item[2])\n",
    "\n",
    "dfTrain = pd.DataFrame(\n",
    "    {\n",
    "        \"author\": authors,\n",
    "        \"Interest1\": labels1,\n",
    "        \"Interest2\": labels2,\n",
    "        \"Interest3\": labels3,\n",
    "    }\n",
    ")\n",
    "del authors, labels1, labels2, labels3\n",
    "print(f\"First authors:\\n{dfTrain[:5]}\")"
   ]
  },
  {
   "cell_type": "code",
   "execution_count": 3,
   "metadata": {},
   "outputs": [
    {
     "name": "stdout",
     "output_type": "stream",
     "text": [
      "                              author Interest1 Interest2 Interest3\n",
      "author                                                            \n",
      "Pim van den Broek  Pim van den Broek                              \n",
      "                                                                  \n",
      "Christof Hasse        Christof Hasse                              \n",
      "                                                                  \n",
      "                                                                  \n"
     ]
    }
   ],
   "source": [
    "with open(\"data/validation.txt\", \"r\") as f:\n",
    "    validation = f.read().split(\"\\n\")\n",
    "    # validation = list(filter(lambda s: s, validation))\n",
    "    dfTest = pd.DataFrame(validation)\n",
    "    del validation\n",
    "\n",
    "    dfTest.columns = [\"author\"]\n",
    "    dfTotal = pd.concat([dfTrain, dfTest], axis=0).fillna(\"\")\n",
    "    dfTotal.index = dfTotal[\"author\"]\n",
    "\n",
    "print(dfTotal[-5:])"
   ]
  },
  {
   "cell_type": "code",
   "execution_count": 4,
   "metadata": {},
   "outputs": [
    {
     "name": "stdout",
     "output_type": "stream",
     "text": [
      "Number of papers loaded: 3000\n",
      "      index                                           citation  \\\n",
      "index                                                            \n",
      "0         0                                                      \n",
      "1         1  1775098\\n,1648782\\n,2206608\\n,2857290\\n,267443...   \n",
      "2         2                                                      \n",
      "3         3                                           96303\\n,   \n",
      "4         4                                                      \n",
      "\n",
      "                                                  author  \\\n",
      "index                                                      \n",
      "0                          Sinjini Mitra,Marios Savvides   \n",
      "1      Alberto Villa,Jocelyn Chanussot,Jon Atli Bened...   \n",
      "2            Tingyuan Nie,Tomoo Kisaka,Masahiko Toyonaga   \n",
      "3                                Yilmaz Erdem,Ümit Totur   \n",
      "4      Sid-Ahmed Boukabara,Kevin Garrett,Wanchun Chen...   \n",
      "\n",
      "                                                   paper  year  \\\n",
      "index                                                            \n",
      "0      Improved Human Face Identification Using Frequ...  2006   \n",
      "1      Unsupervised methods for the classification of...  2013   \n",
      "2      A post layout watermarking method for IP prote...  2005   \n",
      "3      Some Tauberian theorems for the product method...  2012   \n",
      "4      MiRS: An All-Weather 1DVAR Satellite Data Assi...  2011   \n",
      "\n",
      "                                         journal  \n",
      "index                                             \n",
      "0                                     ICASSP (2)  \n",
      "1                            Pattern Recognition  \n",
      "2                                      ISCAS (6)  \n",
      "3      Computers & Mathematics with Applications  \n",
      "4          IEEE T. Geoscience and Remote Sensing  \n"
     ]
    }
   ],
   "source": [
    "# 读取papers.txt，将其转换成pandas的DataFrame格式\n",
    "MAX_PAPERS = 3000\n",
    "papers = []\n",
    "with open(\"data/papers.txt\", \"r\", encoding=\"utf-8\") as f:\n",
    "    for line in f.readlines():\n",
    "        if line.startswith(\"#index\"):\n",
    "            paper_info = {}\n",
    "            papers.append(paper_info)\n",
    "            paper_info[\"index\"] = line[6:].strip()\n",
    "            paper_info[\"citation\"] = \"\"\n",
    "        elif line.startswith(\"#@\"):\n",
    "            paper_info[\"author\"] = line[2:].strip()\n",
    "        elif line.startswith(\"#*\"):\n",
    "            paper_info[\"paper\"] = line[2:].strip()\n",
    "        elif line.startswith(\"#t\"):\n",
    "            paper_info[\"year\"] = line[2:].strip()\n",
    "        elif line.startswith(\"#c\"):\n",
    "            paper_info[\"journal\"] = line[2:].strip()\n",
    "        elif line.startswith(\"#%\"):\n",
    "            paper_info[\"citation\"] = paper_info[\"citation\"] + line[2:] + \",\"\n",
    "\n",
    "        if len(papers) >= MAX_PAPERS:\n",
    "            break\n",
    "\n",
    "print(f\"Number of papers loaded: {len(papers)}\")\n",
    "dfPapers = pd.DataFrame(papers)\n",
    "dfPapers.index = dfPapers[\"index\"]\n",
    "dfPapers = dfPapers.dropna()\n",
    "del papers\n",
    "\n",
    "print(dfPapers[:5])"
   ]
  },
  {
   "cell_type": "code",
   "execution_count": 5,
   "metadata": {},
   "outputs": [
    {
     "name": "stdout",
     "output_type": "stream",
     "text": [
      "                                              jour_paper\n",
      "index                                                   \n",
      "0      ICASSP (2) Improved Human Face Identification ...\n",
      "1      Pattern Recognition Unsupervised methods for t...\n",
      "2      ISCAS (6) A post layout watermarking method fo...\n",
      "['Pattern Recognition Unsupervised methods for the classification of hyperspectral images with low spatial resolution.PatternRecognition']\n"
     ]
    }
   ],
   "source": [
    "\"\"\"\n",
    "处理机构名和文章标题，方便做tfidf\n",
    "处理方法包括：删除标点符号，统一大小写\n",
    "\"\"\"\n",
    "\n",
    "\n",
    "def removeSpace(x):\n",
    "    new_x = \"\"\n",
    "    for i in x.split(\" \"):\n",
    "        new_x += i\n",
    "    return new_x\n",
    "\n",
    "\n",
    "\"\"\"\n",
    "将期刊名+期刊名作为一个单词+论文标题组成一篇文档\n",
    "例如：期刊名为Computer Vision, 论文标题为convolution neural networks\n",
    "则生成文档为: Computer Vision convolution neural networks Computer_Vision\n",
    "\"\"\"\n",
    "# pd.set_option('display.max_rows',500)\n",
    "# pd.set_option('display.max_columns',500)\n",
    "# pd.set_option('display.width',1000)\n",
    "\n",
    "dfPapers[\"jour_\"] = dfPapers[\"journal\"].apply(removeSpace)\n",
    "dfPapers[\"jour_paper\"] = (\n",
    "    dfPapers[\"journal\"] + \" \" + dfPapers[\"paper\"] + dfPapers[\"jour_\"]\n",
    ")\n",
    "jour_list = list(dfPapers[\"jour_\"].unique())\n",
    "dfPapers.drop(\"jour_\", axis=1, inplace=True)\n",
    "print(dfPapers.loc[[\"0\", \"1\", \"2\"], [\"jour_paper\"]])\n",
    "print(list(dfPapers.loc[\"1\", [\"jour_paper\"]]))"
   ]
  },
  {
   "cell_type": "code",
   "execution_count": 6,
   "metadata": {},
   "outputs": [
    {
     "name": "stdout",
     "output_type": "stream",
     "text": [
      "['icassp  ( 2 )  improved human face identification using frequency domain representation of facial asymmetry . icassp ( 2 ) ', 'pattern recognition unsupervised methods for the classification of hyperspectral images with low spatial resolution . patternrecognition', 'iscas  ( 6 )  a post layout watermarking method for ip protection . iscas ( 6 ) ', 'computers & mathematics with applications some tauberian theorems for the product method of borel and cesàro summability . computers&mathematicswithapplications', 'ieee t .  geoscience and remote sensing mirs :  an all - weather 1dvar satellite data assimilation and retrieval system . ieeet . geoscienceandremotesensing', 'journal of approximation theory convergence rates of vector cascade algorithms in lp . journalofapproximationtheory', 'i .  j .  medical informatics desirability and expectations of the uk ms register :  views of people with ms . i . j . medicalinformatics', 'icisc fractional windows revisited :  improved signed - digit representations for efficient exponentiation . icisc', 'ieice transactions public - key encryptions with invariant security reductions in the multi - user setting . ieicetransactions', 'isd a proposed extension of the codam model for human attention . isd']\n"
     ]
    }
   ],
   "source": [
    "def normalize_text(text):\n",
    "    norm_text = text.lower()\n",
    "    norm_text = norm_text.replace(\"<br />\", \" \")\n",
    "    for char in [\".\", '\"', \",\", \"(\", \")\", \"!\", \"?\", \":\", \";\", \"-\"]:\n",
    "        norm_text = norm_text.replace(char, \" \" + char + \" \")\n",
    "    return norm_text\n",
    "\n",
    "\n",
    "dfPapers[\"jour_paper\"] = dfPapers[\"jour_paper\"].apply(normalize_text)\n",
    "docs = list(dfPapers[\"jour_paper\"].values)\n",
    "print(docs[:10])"
   ]
  },
  {
   "cell_type": "code",
   "execution_count": 7,
   "metadata": {},
   "outputs": [
    {
     "name": "stdout",
     "output_type": "stream",
     "text": [
      "[['icassp', '2', 'improved', 'human', 'face', 'identification', 'using', 'frequency', 'domain', 'representation', 'of', 'facial', 'asymmetry', 'icassp', '2'], ['pattern', 'recognition', 'unsupervised', 'methods', 'for', 'the', 'classification', 'of', 'hyperspectral', 'images', 'with', 'low', 'spatial', 'resolution', 'patternrecognition'], ['iscas', '6', 'a', 'post', 'layout', 'watermarking', 'method', 'for', 'ip', 'protection', 'iscas', '6'], ['computers', 'mathematics', 'with', 'applications', 'some', 'tauberian', 'theorems', 'for', 'the', 'product', 'method', 'of', 'borel', 'and', 'cesàro', 'summability', 'computers', 'mathematicswithapplications'], ['ieee', 't', 'geoscience', 'and', 'remote', 'sensing', 'mirs', 'an', 'all', 'weather', '1dvar', 'satellite', 'data', 'assimilation', 'and', 'retrieval', 'system', 'ieeet', 'geoscienceandremotesensing'], ['journal', 'of', 'approximation', 'theory', 'convergence', 'rates', 'of', 'vector', 'cascade', 'algorithms', 'in', 'lp', 'journalofapproximationtheory'], ['i', 'j', 'medical', 'informatics', 'desirability', 'and', 'expectations', 'of', 'the', 'uk', 'ms', 'register', 'views', 'of', 'people', 'with', 'ms', 'i', 'j', 'medicalinformatics'], ['icisc', 'fractional', 'windows', 'revisited', 'improved', 'signed', 'digit', 'representations', 'for', 'efficient', 'exponentiation', 'icisc'], ['ieice', 'transactions', 'public', 'key', 'encryptions', 'with', 'invariant', 'security', 'reductions', 'in', 'the', 'multi', 'user', 'setting', 'ieicetransactions'], ['isd', 'a', 'proposed', 'extension', 'of', 'the', 'codam', 'model', 'for', 'human', 'attention', 'isd'], ['operating', 'systems', 'review', 'on', 'data', 'secure', 'computer', 'networks', 'operatingsystemsreview'], ['ccta', '2', 'quantifying', 'the', 'type', 'of', 'urban', 'sprawl', 'and', 'dynamic', 'changes', 'in', 'shenzhen', 'ccta', '2'], ['globecom', 'early', 'drop', 'and', 'wavelength', 'grouping', 'schemes', 'for', 'providing', 'absolute', 'qos', 'differentiation', 'in', 'optical', 'burst', 'switched', 'networks', 'globecom'], ['cogsci', 'a', 'network', 'analysis', 'approach', 'to', 'understand', 'human', 'wayfinding', 'problem', 'cogsci'], ['cogsci', 'impatience', 'risk', 'propensity', 'and', 'rationality', 'in', 'timing', 'games', 'cogsci'], ['cdc', 'output', 'feedback', 'control', 'of', 'nonlinear', 'quadratic', 'systems', 'cdc'], ['daisd', 'integrity', 'constraints', 'revisited', 'preliminary', 'version', 'daisd'], ['cogsci', 'the', 'effect', 'of', 'syntax', 'semantics', 'mismatch', 'on', 'referent', 'predictability', 'evidence', 'from', 'chinese', 'cogsci'], ['icip', 'systematic', 'study', 'of', 'color', 'spaces', 'and', 'components', 'for', 'the', 'segmentation', 'of', 'sky', 'cloud', 'images', 'icip'], ['ieee', 't', 'instrumentation', 'and', 'measurement', 'quartz', 'sensor', 'for', 'water', 'absorption', 'measurement', 'in', 'glass', 'fiber', 'resins', 'ieeet', 'instrumentationandmeasurement'], ['eisic', 'countering', 'plagiarism', 'by', 'exposing', 'irregularities', 'in', 'authors', 'grammar', 'eisic'], ['isprs', 'int', 'j', 'geo', 'information', 'effects', 'of', 'pansharpening', 'on', 'vegetation', 'indices', 'isprsint', 'j', 'geo', 'information'], ['ieee', 'transactions', 'on', 'industrial', 'electronics', 'extending', 'the', 'life', 'of', 'gear', 'box', 'in', 'wind', 'generators', 'by', 'smoothing', 'transient', 'torque', 'with', 'statcom', 'ieeetransactionsonindustrialelectronics'], ['j', 'symb', 'log', 'preserving', 'sigma', 'ideals', 'j', 'symb', 'log'], ['j', 'comput', 'syst', 'sci', 'degree', 'languages', 'a', 'new', 'concept', 'of', 'acceptance', 'j', 'comput', 'syst', 'sci'], ['logical', 'methods', 'in', 'computer', 'science', 'infinitary', 'combinatory', 'reduction', 'systems', 'confluencelogicalmethodsincomputerscience'], ['cogsci', 'half', 'day', 'tutorial', 'on', 'using', 'quantum', 'probability', 'theory', 'to', 'model', 'cognition', 'cogsci'], ['ieee', 'trans', 'med', 'imaging', 'method', 'to', 'correct', 'intensity', 'inhomogeneity', 'in', 'mr', 'images', 'for', 'atherosclerosis', 'characterization', 'ieeetrans', 'med', 'imaging'], ['interspeech', 'unsupervised', 'speaker', 'adaptation', 'using', 'high', 'confidence', 'portion', 'recognition', 'results', 'by', 'multiple', 'recognition', 'systems', 'interspeech'], ['cogsci', 'probability', 'matching', 'in', '10', 'month', 'old', 'infants', 'cogsci'], ['cogsci', 'diagramming', 'the', 'maya', 'classic', 'motif', 'the', 'nonpropositional', 'pictorial', 'reasoning', 'of', 'eternal', 'victory', 'at', 'tikal', 'cogsci'], ['cogsci', 'phonological', 'neighborhood', 'density', 'modulates', 'errors', 'in', 'spoken', 'word', 'recognition', 'cogsci'], ['cogsci', 'visual', 'recognition', 'using', 'a', 'combination', 'of', 'shape', 'and', 'color', 'features', 'cogsci'], ['signal', 'processing', 'an', 'optimal', 'design', 'of', 'the', 'extrapolated', 'impulse', 'response', 'filter', 'with', 'analytical', 'solutions', 'signalprocessing'], ['ieee', 'trans', 'circuits', 'syst', 'video', 'techn', 'very', 'low', 'bit', 'rate', 'video', 'coding', 'using', 'wavelet', 'based', 'techniques', 'ieeetrans', 'circuitssyst', 'videotechn'], ['iros', 'robust', 'navigation', 'using', 'markov', 'models', 'iros'], ['the', 'visual', 'computer', 'visualization', 'of', 'level', 'of', 'detail', 'meshes', 'on', 'the', 'gpu', 'thevisualcomputer'], ['ieee', 'trans', 'signal', 'processing', 'uplink', 'downlink', 'rate', 'balancing', 'in', 'cooperating', 'cellular', 'networks', 'ieeetrans', 'signalprocessing'], ['icalt', 'collaboration', 'support', 'in', 'argumentation', 'systems', 'for', 'education', 'via', 'flexible', 'architectures', 'icalt'], ['new', 'generation', 'comput', 'fgcs', '88', 'newgenerationcomput'], ['ieee', 'trans', 'neural', 'netw', 'learning', 'syst', 'synchronization', 'of', 'memristor', 'based', 'coupling', 'recurrent', 'neural', 'networks', 'with', 'time', 'varying', 'delays', 'and', 'impulses', 'ieeetrans', 'neuralnetw', 'learningsyst'], ['acm', 'multimedia', 'workshops', 'key', 'frame', 'extraction', 'and', 'shot', 'retrieval', 'using', 'nearest', 'feature', 'line', 'nfl', 'acmmultimediaworkshops'], ['constraints', 'a', 'new', 'approach', 'for', 'weighted', 'constraint', 'satisfaction', 'constraints'], ['hmd', 'praxis', 'wirtschaftsinform', 'design', 'research', 'für', 'die', 'implementation', 'von', 'elearning', 'ein', 'vielversprechendes', 'paradigma', 'für', 'die', 'zusammenarbeit', 'von', 'wissenschaft', 'und', 'praxis', 'hmd', 'praxiswirtschaftsinform'], ['new', 'media', 'society', 'host', 'selling', 'in', 'cyberspace', 'product', 'personalities', 'and', 'character', 'advertising', 'on', 'popular', 'children', 's', 'websites', 'newmedia', 'society'], ['csie', '5', 'web', 'data', 'extraction', 'based', 'on', 'label', 'library', 'csie', '5'], ['tangible', 'and', 'embedded', 'interaction', 'rafigh', 'an', 'edible', 'living', 'media', 'installation', 'tangibleandembeddedinteraction'], ['ieee', 'geosci', 'remote', 'sensing', 'lett', 'phase', 'statistics', 'for', 'strong', 'scatterers', 'in', 'sar', 'interferograms', 'ieeegeosci', 'remotesensinglett'], ['acm', 'great', 'lakes', 'symposium', 'on', 'vlsi', 'dx', 'compactor', 'distributed', 'x', 'compaction', 'for', 'socs', 'acmgreatlakessymposiumonvlsi'], ['vrst', 'super', 'wide', 'viewer', 'using', 'catadioptrical', 'optics', 'vrst']]\n"
     ]
    }
   ],
   "source": [
    "from nltk.tokenize import RegexpTokenizer\n",
    "\n",
    "tokenizer = RegexpTokenizer(r\"\\w+\")\n",
    "for idx in range(len(docs)):\n",
    "    docs[idx] = docs[idx].lower()\n",
    "    docs[idx] = tokenizer.tokenize(docs[idx])\n",
    "print(docs[:50])"
   ]
  },
  {
   "cell_type": "code",
   "execution_count": 8,
   "metadata": {},
   "outputs": [
    {
     "name": "stdout",
     "output_type": "stream",
     "text": [
      "[['icassp', 'improved', 'human', 'face', 'identification', 'using', 'frequency', 'domain', 'representation', 'of', 'facial', 'asymmetry', 'icassp'], ['pattern', 'recognition', 'unsupervised', 'methods', 'for', 'the', 'classification', 'of', 'hyperspectral', 'images', 'with', 'low', 'spatial', 'resolution', 'patternrecognition'], ['iscas', 'post', 'layout', 'watermarking', 'method', 'for', 'ip', 'protection', 'iscas'], ['computers', 'mathematics', 'with', 'applications', 'some', 'tauberian', 'theorems', 'for', 'the', 'product', 'method', 'of', 'borel', 'and', 'cesàro', 'summability', 'computers', 'mathematicswithapplications'], ['ieee', 'geoscience', 'and', 'remote', 'sensing', 'mirs', 'an', 'all', 'weather', '1dvar', 'satellite', 'data', 'assimilation', 'and', 'retrieval', 'system', 'ieeet', 'geoscienceandremotesensing'], ['journal', 'of', 'approximation', 'theory', 'convergence', 'rates', 'of', 'vector', 'cascade', 'algorithms', 'in', 'lp', 'journalofapproximationtheory'], ['medical', 'informatics', 'desirability', 'and', 'expectations', 'of', 'the', 'uk', 'ms', 'register', 'views', 'of', 'people', 'with', 'ms', 'medicalinformatics'], ['icisc', 'fractional', 'windows', 'revisited', 'improved', 'signed', 'digit', 'representations', 'for', 'efficient', 'exponentiation', 'icisc'], ['ieice', 'transactions', 'public', 'key', 'encryptions', 'with', 'invariant', 'security', 'reductions', 'in', 'the', 'multi', 'user', 'setting', 'ieicetransactions'], ['isd', 'proposed', 'extension', 'of', 'the', 'codam', 'model', 'for', 'human', 'attention', 'isd'], ['operating', 'systems', 'review', 'on', 'data', 'secure', 'computer', 'networks', 'operatingsystemsreview'], ['ccta', 'quantifying', 'the', 'type', 'of', 'urban', 'sprawl', 'and', 'dynamic', 'changes', 'in', 'shenzhen', 'ccta'], ['globecom', 'early', 'drop', 'and', 'wavelength', 'grouping', 'schemes', 'for', 'providing', 'absolute', 'qos', 'differentiation', 'in', 'optical', 'burst', 'switched', 'networks', 'globecom'], ['cogsci', 'network', 'analysis', 'approach', 'to', 'understand', 'human', 'wayfinding', 'problem', 'cogsci'], ['cogsci', 'impatience', 'risk', 'propensity', 'and', 'rationality', 'in', 'timing', 'games', 'cogsci'], ['cdc', 'output', 'feedback', 'control', 'of', 'nonlinear', 'quadratic', 'systems', 'cdc'], ['daisd', 'integrity', 'constraints', 'revisited', 'preliminary', 'version', 'daisd'], ['cogsci', 'the', 'effect', 'of', 'syntax', 'semantics', 'mismatch', 'on', 'referent', 'predictability', 'evidence', 'from', 'chinese', 'cogsci'], ['icip', 'systematic', 'study', 'of', 'color', 'spaces', 'and', 'components', 'for', 'the', 'segmentation', 'of', 'sky', 'cloud', 'images', 'icip'], ['ieee', 'instrumentation', 'and', 'measurement', 'quartz', 'sensor', 'for', 'water', 'absorption', 'measurement', 'in', 'glass', 'fiber', 'resins', 'ieeet', 'instrumentationandmeasurement'], ['eisic', 'countering', 'plagiarism', 'by', 'exposing', 'irregularities', 'in', 'authors', 'grammar', 'eisic'], ['isprs', 'int', 'geo', 'information', 'effects', 'of', 'pansharpening', 'on', 'vegetation', 'indices', 'isprsint', 'geo', 'information'], ['ieee', 'transactions', 'on', 'industrial', 'electronics', 'extending', 'the', 'life', 'of', 'gear', 'box', 'in', 'wind', 'generators', 'by', 'smoothing', 'transient', 'torque', 'with', 'statcom', 'ieeetransactionsonindustrialelectronics'], ['symb', 'log', 'preserving', 'sigma', 'ideals', 'symb', 'log'], ['comput', 'syst', 'sci', 'degree', 'languages', 'new', 'concept', 'of', 'acceptance', 'comput', 'syst', 'sci'], ['logical', 'methods', 'in', 'computer', 'science', 'infinitary', 'combinatory', 'reduction', 'systems', 'confluencelogicalmethodsincomputerscience'], ['cogsci', 'half', 'day', 'tutorial', 'on', 'using', 'quantum', 'probability', 'theory', 'to', 'model', 'cognition', 'cogsci'], ['ieee', 'trans', 'med', 'imaging', 'method', 'to', 'correct', 'intensity', 'inhomogeneity', 'in', 'mr', 'images', 'for', 'atherosclerosis', 'characterization', 'ieeetrans', 'med', 'imaging'], ['interspeech', 'unsupervised', 'speaker', 'adaptation', 'using', 'high', 'confidence', 'portion', 'recognition', 'results', 'by', 'multiple', 'recognition', 'systems', 'interspeech'], ['cogsci', 'probability', 'matching', 'in', 'month', 'old', 'infants', 'cogsci'], ['cogsci', 'diagramming', 'the', 'maya', 'classic', 'motif', 'the', 'nonpropositional', 'pictorial', 'reasoning', 'of', 'eternal', 'victory', 'at', 'tikal', 'cogsci'], ['cogsci', 'phonological', 'neighborhood', 'density', 'modulates', 'errors', 'in', 'spoken', 'word', 'recognition', 'cogsci'], ['cogsci', 'visual', 'recognition', 'using', 'combination', 'of', 'shape', 'and', 'color', 'features', 'cogsci'], ['signal', 'processing', 'an', 'optimal', 'design', 'of', 'the', 'extrapolated', 'impulse', 'response', 'filter', 'with', 'analytical', 'solutions', 'signalprocessing'], ['ieee', 'trans', 'circuits', 'syst', 'video', 'techn', 'very', 'low', 'bit', 'rate', 'video', 'coding', 'using', 'wavelet', 'based', 'techniques', 'ieeetrans', 'circuitssyst', 'videotechn'], ['iros', 'robust', 'navigation', 'using', 'markov', 'models', 'iros'], ['the', 'visual', 'computer', 'visualization', 'of', 'level', 'of', 'detail', 'meshes', 'on', 'the', 'gpu', 'thevisualcomputer'], ['ieee', 'trans', 'signal', 'processing', 'uplink', 'downlink', 'rate', 'balancing', 'in', 'cooperating', 'cellular', 'networks', 'ieeetrans', 'signalprocessing'], ['icalt', 'collaboration', 'support', 'in', 'argumentation', 'systems', 'for', 'education', 'via', 'flexible', 'architectures', 'icalt'], ['new', 'generation', 'comput', 'fgcs', 'newgenerationcomput'], ['ieee', 'trans', 'neural', 'netw', 'learning', 'syst', 'synchronization', 'of', 'memristor', 'based', 'coupling', 'recurrent', 'neural', 'networks', 'with', 'time', 'varying', 'delays', 'and', 'impulses', 'ieeetrans', 'neuralnetw', 'learningsyst'], ['acm', 'multimedia', 'workshops', 'key', 'frame', 'extraction', 'and', 'shot', 'retrieval', 'using', 'nearest', 'feature', 'line', 'nfl', 'acmmultimediaworkshops'], ['constraints', 'new', 'approach', 'for', 'weighted', 'constraint', 'satisfaction', 'constraints'], ['hmd', 'praxis', 'wirtschaftsinform', 'design', 'research', 'für', 'die', 'implementation', 'von', 'elearning', 'ein', 'vielversprechendes', 'paradigma', 'für', 'die', 'zusammenarbeit', 'von', 'wissenschaft', 'und', 'praxis', 'hmd', 'praxiswirtschaftsinform'], ['new', 'media', 'society', 'host', 'selling', 'in', 'cyberspace', 'product', 'personalities', 'and', 'character', 'advertising', 'on', 'popular', 'children', 'websites', 'newmedia', 'society'], ['csie', 'web', 'data', 'extraction', 'based', 'on', 'label', 'library', 'csie'], ['tangible', 'and', 'embedded', 'interaction', 'rafigh', 'an', 'edible', 'living', 'media', 'installation', 'tangibleandembeddedinteraction'], ['ieee', 'geosci', 'remote', 'sensing', 'lett', 'phase', 'statistics', 'for', 'strong', 'scatterers', 'in', 'sar', 'interferograms', 'ieeegeosci', 'remotesensinglett'], ['acm', 'great', 'lakes', 'symposium', 'on', 'vlsi', 'dx', 'compactor', 'distributed', 'compaction', 'for', 'socs', 'acmgreatlakessymposiumonvlsi'], ['vrst', 'super', 'wide', 'viewer', 'using', 'catadioptrical', 'optics', 'vrst']]\n"
     ]
    }
   ],
   "source": [
    "# Remove numbers\n",
    "docs = [[token for token in doc if not token.isnumeric()] for doc in docs]\n",
    "# Remove words that are only one character.\n",
    "docs = [[token for token in doc if len(token) > 1] for doc in docs]\n",
    "\n",
    "print(docs[:50])"
   ]
  },
  {
   "cell_type": "code",
   "execution_count": 9,
   "metadata": {},
   "outputs": [
    {
     "name": "stdout",
     "output_type": "stream",
     "text": [
      "['icassp', 'improved', 'human', 'identification', 'using', 'frequency', 'domain', 'representation', 'of', 'pattern', 'recognition', 'methods', 'for', 'the', 'classification', 'images', 'with', 'low', 'spatial', 'iscas', 'method', 'computers', 'mathematics', 'applications', 'and', 'ieee', 'sensing', 'an', 'data', 'retrieval', 'system', 'journal', 'theory', 'vector', 'algorithms', 'in', 'efficient', 'transactions', 'security', 'multi', 'user', 'model', 'systems', 'on', 'computer', 'networks', 'dynamic', 'globecom', 'network', 'analysis', 'approach', 'to', 'problem', 'feedback', 'control', 'nonlinear', 'from', 'icip', 'study', 'cloud', 'sensor', 'by', 'int', 'information', 'comput', 'syst', 'sci', 'new', 'science', 'trans', 'med', 'imaging', 'ieeetrans', 'interspeech', 'high', 'multiple', 'at', 'visual', 'signal', 'processing', 'optimal', 'design', 'circuits', 'video', 'rate', 'based', 'iros', 'robust', 'models', 'level', 'support', 'via', 'generation', 'neural', 'learning', 'time', 'acm', 'multimedia', 'workshops', 'extraction', 'research', 'implementation', 'und', 'web', 'interaction', 'distributed', 'corr', 'robot', 'environments', 'framework', 'electronic', 'dimensional', 'mobile', 'hci', 'communication', 'between', 'siam', 'discrete', 'math', 'programs', 'local', 'large', 'scale', 'social', 'image', 'search', 'virtual', 'agent', 'flow', 'comparison', 'computation', 'error', 'codes', 'wireless', 'communications', 'detection', 'as', 'modelling', 'quality', 'linear', 'performance', 'application', 'programming', 'engineering', 'software', 'object', 'oriented', 'two', 'fuzzy', 'problems', 'energy', 'complexity', 'its', 'fusion', 'fault', 'memory', 'european', 'simulation', 'computational', 'applied', 'bioinformatics', 'computing', 'or', 'over', 'graphs', 'test', 'digital', 'under', 'process', 'power', 'machine', 'evaluation', 'evolutionary', 'optimization', 'conference', 'online', 'self', 'architecture', 'development', '3d', 'algorithm', 'international', 'structure', 'inf', 'automated', 'context', 'decision', 'igarss', 'environment', 'scheduling', 'through', 'state', 'selection', 'space', 'theor', 'set', 'order', 'intelligent', 'real', 'icra', 'services', 'knowledge', 'appl', 'management', 'non', 'adaptive', 'novel', 'service', 'de', 'grid', 'intell', 'eng', 'parallel', 'comb', 'ser', 'fast', 'icpr', 'program', 'semantic', 'graph', 'case', 'interactive', 'mathematical', 'language', 'routing', 'generalized', 'group', 'tracking', 'scheme', 'logic', 'technology', 'channel', 'automatic', 'prediction', 'icc', 'allocation', 'estimation', 'speech', 'towards', 'collaborative', 'modeling', 'database', 'access', 'cca', 'internet', 'matrix', 'audio', 'genetic', 'mie']\n"
     ]
    }
   ],
   "source": [
    "# get word_list\n",
    "def processDoc(docs):\n",
    "    wordList = {}\n",
    "    for doc in docs:\n",
    "        for word in doc:\n",
    "            if word not in wordList.keys():\n",
    "                wordList[word] = 1\n",
    "            else:\n",
    "                wordList[word] += 1\n",
    "    return wordList\n",
    "\n",
    "\n",
    "# 删去一些可能无用的词\n",
    "wordList = processDoc(docs)\n",
    "word_ind = list(wordList.keys())\n",
    "word_val = list(wordList.values())\n",
    "wordList = pd.DataFrame(word_val)\n",
    "wordList.index = word_ind\n",
    "# print(wordList[:100])\n",
    "# 取出现次数超过20的词加入到tfidf 的计算中\n",
    "wordList = list(wordList[wordList[0] > 20].index)\n",
    "print(wordList)"
   ]
  },
  {
   "cell_type": "code",
   "execution_count": 10,
   "metadata": {},
   "outputs": [
    {
     "name": "stdout",
     "output_type": "stream",
     "text": [
      "['icassp improved human identification using frequency domain representation icassp', 'pattern recognition methods classification images low spatial', 'iscas method iscas', 'computers mathematics applications method computers', 'ieee sensing data retrieval system', 'journal theory vector algorithms', '', 'improved efficient', 'transactions security multi user', 'model human', 'systems data computer networks', 'dynamic', 'globecom networks globecom', 'network analysis approach human problem', '', 'feedback control nonlinear systems', '', 'from', 'icip study cloud images icip', 'ieee sensor', '', 'int information information', 'ieee transactions', '', 'comput syst sci new comput syst sci', 'methods computer science systems', 'using theory model', 'ieee trans med imaging method images ieeetrans med imaging', 'interspeech using high recognition multiple recognition systems interspeech', '', 'at', 'recognition', 'visual recognition using', 'signal processing optimal design', 'ieee trans circuits syst video low rate video using based ieeetrans', 'iros robust using models iros', 'visual computer level', 'ieee trans signal processing rate networks ieeetrans', 'support systems via', 'new generation comput', 'ieee trans neural learning syst based neural networks time ieeetrans', 'acm multimedia workshops extraction retrieval using', 'new approach', 'design research implementation und', 'new', 'web data extraction based', 'interaction', 'ieee sensing', 'acm distributed', 'using', 'corr optimal', 'dynamic neural network multi robot control environments', 'framework network generation', 'electronic imaging analysis dimensional models', 'mobile hci using mobile support communication between', '', 'siam discrete math programs', 'extraction from', 'local information recognition', 'information large scale social image search', 'social virtual agent', 'network flow based', 'transactions comparison', 'ieee transactions information theory computation error codes', 'wireless communications time multi based frequency domain detection', 'approach based', 'information', 'as', 'time optimal based', 'visual modelling image quality', 'icassp based icassp', 'ieee communications linear', 'performance analysis application programming models using', 'model based engineering systems framework software engineering model', 'object oriented system design communication system', 'application engineering', 'recognition human robot interaction', 'comput syst sci circuits application two problem comput syst sci', 'user', 'corr fuzzy problems corr', 'ieee transactions signal processing', 'robust energy efficient systems via processing', 'corr multiple approach low complexity corr', 'comput sci based design multi model its comput sci', 'corr fusion processing corr', 'user level fault memory systems', 'robust virtual', 'efficient neural networks', 'european journal research model simulation software', 'computational applied mathematics', 'bioinformatics web computing bioinformatics', 'over', 'journal information computer as graphs', 'implementation test signal generation from digital test', 'signal processing based', 'bioinformatics from information', 'under process', 'from web', 'iros learning robot using neural networks as feedback pattern iros', 'power machine']\n"
     ]
    }
   ],
   "source": [
    "stop_word = [\"and\", \"a\", \"an\", \"by\", \"of\", \"on\", \"to\", \"with\", \"for\", \"the\", \"in\", \"or\"]\n",
    "wordList.extend(jour_list)\n",
    "for word in stop_word:\n",
    "    if word in wordList:\n",
    "        wordList.remove(word)\n",
    "wordList = set(wordList)\n",
    "\n",
    "for idx, doc in enumerate(docs):\n",
    "    new_doc = []\n",
    "    for word in doc:\n",
    "        if word in wordList:\n",
    "            new_doc.append(word)\n",
    "    docs[idx] = \" \".join(new_doc)\n",
    "print(docs[:100])"
   ]
  },
  {
   "cell_type": "code",
   "execution_count": 11,
   "metadata": {},
   "outputs": [
    {
     "name": "stdout",
     "output_type": "stream",
     "text": [
      "<class 'scipy.sparse._csr.csr_matrix'>\n",
      "<Compressed Sparse Row sparse matrix of dtype 'float64'\n",
      "\twith 10602 stored elements and shape (2979, 238)>\n",
      "  Coords\tValues\n",
      "  (0, 57)\t0.31182748854863745\n",
      "  (0, 77)\t0.3234267785759964\n",
      "  (0, 91)\t0.28709044060984884\n",
      "  (0, 92)\t0.6117936675422633\n",
      "  (0, 97)\t0.31848606695300385\n",
      "  (0, 105)\t0.3209002589620856\n",
      "  (0, 178)\t0.31848606695300385\n",
      "  (0, 229)\t0.1886865063079824\n",
      "  (1, 27)\t0.3808552587350276\n",
      "  (1, 102)\t0.3887553217555127\n",
      "  (1, 128)\t0.3808552587350276\n",
      "  (1, 138)\t0.35995620630440367\n",
      "  (1, 163)\t0.3790102885591311\n",
      "  (1, 177)\t0.33848599455585493\n",
      "  (1, 206)\t0.4134946260755\n",
      "  (2, 117)\t0.9349977108067218\n",
      "  (2, 137)\t0.3546537477402288\n",
      "  (3, 11)\t0.3631393358579969\n",
      "  (3, 40)\t0.7622026683661884\n",
      "  (3, 133)\t0.38669559924435426\n",
      "  (3, 137)\t0.37100327304907255\n",
      "  (4, 46)\t0.3847385039976021\n",
      "  (4, 98)\t0.3469051908712006\n",
      "  (4, 180)\t0.5198317621121266\n",
      "  (4, 194)\t0.5611763647447693\n",
      "  :\t:\n",
      "  (2971, 29)\t0.6823029113400618\n",
      "  (2971, 33)\t0.5971282795713324\n",
      "  (2971, 98)\t0.4217825919985991\n",
      "  (2972, 72)\t0.4678439315651283\n",
      "  (2972, 129)\t0.4818119120680735\n",
      "  (2972, 164)\t0.38349957069444995\n",
      "  (2972, 214)\t0.301318299115659\n",
      "  (2972, 229)\t0.2953561460125146\n",
      "  (2972, 233)\t0.4731590070947014\n",
      "  (2973, 1)\t0.6675791578276595\n",
      "  (2973, 107)\t0.4716565088693046\n",
      "  (2973, 235)\t0.5760887133726301\n",
      "  (2974, 76)\t1.0\n",
      "  (2975, 72)\t0.5543090194462205\n",
      "  (2975, 208)\t0.590672227661277\n",
      "  (2975, 230)\t0.5863853941140025\n",
      "  (2976, 7)\t0.5375786228766376\n",
      "  (2976, 8)\t0.3787935154468933\n",
      "  (2976, 20)\t0.2879455190676799\n",
      "  (2976, 201)\t0.47451481274832724\n",
      "  (2976, 205)\t0.5093601549127165\n",
      "  (2977, 78)\t1.0\n",
      "  (2978, 144)\t0.6116164399209167\n",
      "  (2978, 202)\t0.6649389609929744\n",
      "  (2978, 229)\t0.4286974557564428\n"
     ]
    }
   ],
   "source": [
    "# 做TFIDF 转换\n",
    "from sklearn.feature_extraction.text import TfidfTransformer\n",
    "from sklearn.feature_extraction.text import CountVectorizer\n",
    "\n",
    "vectorizer = CountVectorizer()\n",
    "transformer = TfidfTransformer()\n",
    "tfidf = transformer.fit_transform(vectorizer.fit_transform(docs))\n",
    "print(type(tfidf))\n",
    "print(tfidf)\n",
    "# print(tfidf.shape) # (3053717, 34821) 行数为文档编号，列数为单词编号"
   ]
  },
  {
   "cell_type": "code",
   "execution_count": 12,
   "metadata": {},
   "outputs": [
    {
     "name": "stdout",
     "output_type": "stream",
     "text": [
      "\n",
      "<class 'str'>\n",
      "  index                                           citation  \\\n",
      "0     0                                                      \n",
      "1     1  1775098\\n,1648782\\n,2206608\\n,2857290\\n,267443...   \n",
      "2     2                                                      \n",
      "3     3                                           96303\\n,   \n",
      "4     4                                                      \n",
      "\n",
      "                                              author  \\\n",
      "0                      Sinjini Mitra,Marios Savvides   \n",
      "1  Alberto Villa,Jocelyn Chanussot,Jon Atli Bened...   \n",
      "2        Tingyuan Nie,Tomoo Kisaka,Masahiko Toyonaga   \n",
      "3                            Yilmaz Erdem,Ümit Totur   \n",
      "4  Sid-Ahmed Boukabara,Kevin Garrett,Wanchun Chen...   \n",
      "\n",
      "                                               paper  year  \\\n",
      "0  Improved Human Face Identification Using Frequ...  2006   \n",
      "1  Unsupervised methods for the classification of...  2013   \n",
      "2  A post layout watermarking method for IP prote...  2005   \n",
      "3  Some Tauberian theorems for the product method...  2012   \n",
      "4  MiRS: An All-Weather 1DVAR Satellite Data Assi...  2011   \n",
      "\n",
      "                                     journal  \\\n",
      "0                                 ICASSP (2)   \n",
      "1                        Pattern Recognition   \n",
      "2                                  ISCAS (6)   \n",
      "3  Computers & Mathematics with Applications   \n",
      "4      IEEE T. Geoscience and Remote Sensing   \n",
      "\n",
      "                                          jour_paper cited  \n",
      "0  icassp  ( 2 )  improved human face identificat...        \n",
      "1  pattern recognition unsupervised methods for t...        \n",
      "2  iscas  ( 6 )  a post layout watermarking metho...        \n",
      "3  computers & mathematics with applications some...        \n",
      "4  ieee t .  geoscience and remote sensing mirs :...        \n"
     ]
    }
   ],
   "source": [
    "import numpy as np\n",
    "\n",
    "# 获取每个作者发表的文章\n",
    "dfPapers.index = np.arange(len(dfPapers))\n",
    "dfPapers[\"index\"] = dfPapers.index\n",
    "dfPapers[\"index\"] = dfPapers.index.astype(str)\n",
    "\n",
    "# get cited numbers\n",
    "cited = []  # cited numbers\n",
    "for _ in dfPapers.index:\n",
    "    cited.append(\"\")\n",
    "\n",
    "# print(type(dfPapers.index)) # <class 'pandas.core.indexes.numeric.Int64Index'>\n",
    "# print(type(dfPapers['index'])) # <class 'pandas.core.series.Series'>\n",
    "\n",
    "# cite = dfPapers.loc[1,['citation']]\n",
    "# print(type(cite)) #<class 'pandas.core.series.Series'>\n",
    "# print(list(cite))\n",
    "\n",
    "# cite = dfPapers.loc[1,'citation']\n",
    "# print(type(cite)) #<class 'str'>\n",
    "# print(cite)\n",
    "\n",
    "# for index in dfPapers['index']:\n",
    "# print(type(index)) #<class 'str'>\n",
    "\n",
    "for idx in dfPapers.index:\n",
    "    cite = dfPapers.loc[idx, \"citation\"]\n",
    "    if cite == \"\":\n",
    "        continue\n",
    "    for i in cite.split(\"\\n,\")[:-1]:\n",
    "        if int(i) < len(dfPapers):\n",
    "            cited[int(i)] = cited[int(i)] + str(idx) + \":\"\n",
    "dfPapers[\"cited\"] = cited\n",
    "\n",
    "# dfPapers.drop(['year'],axis = 1,inplace = True)\n",
    "print(dfPapers.loc[1, \"cited\"])\n",
    "print(type(cited[-1]))\n",
    "print(dfPapers.iloc[:5])"
   ]
  },
  {
   "cell_type": "code",
   "execution_count": 13,
   "metadata": {},
   "outputs": [
    {
     "name": "stdout",
     "output_type": "stream",
     "text": [
      "  index                                           citation  \\\n",
      "0     0                                                      \n",
      "1     1  1775098\\n,1648782\\n,2206608\\n,2857290\\n,267443...   \n",
      "2     2                                                      \n",
      "3     3                                           96303\\n,   \n",
      "4     4                                                      \n",
      "\n",
      "                                              author  \\\n",
      "0      Sinjini Mitra,Marios Savvides,,,,,,,,,,,,,,,,   \n",
      "1  Alberto Villa,Jocelyn Chanussot,Jon Atli Bened...   \n",
      "2  Tingyuan Nie,Tomoo Kisaka,Masahiko Toyonaga,,,...   \n",
      "3            Yilmaz Erdem,Ümit Totur,,,,,,,,,,,,,,,,   \n",
      "4  Sid-Ahmed Boukabara,Kevin Garrett,Wanchun Chen...   \n",
      "\n",
      "                                               paper  year  \\\n",
      "0  Improved Human Face Identification Using Frequ...  2006   \n",
      "1  Unsupervised methods for the classification of...  2013   \n",
      "2  A post layout watermarking method for IP prote...  2005   \n",
      "3  Some Tauberian theorems for the product method...  2012   \n",
      "4  MiRS: An All-Weather 1DVAR Satellite Data Assi...  2011   \n",
      "\n",
      "                                     journal  \\\n",
      "0                                 ICASSP (2)   \n",
      "1                        Pattern Recognition   \n",
      "2                                  ISCAS (6)   \n",
      "3  Computers & Mathematics with Applications   \n",
      "4      IEEE T. Geoscience and Remote Sensing   \n",
      "\n",
      "                                          jour_paper cited  \\\n",
      "0  icassp  ( 2 )  improved human face identificat...         \n",
      "1  pattern recognition unsupervised methods for t...         \n",
      "2  iscas  ( 6 )  a post layout watermarking metho...         \n",
      "3  computers & mathematics with applications some...         \n",
      "4  ieee t .  geoscience and remote sensing mirs :...         \n",
      "\n",
      "               author1            author2  ... author14 author15 author16  \\\n",
      "0        Sinjini Mitra    Marios Savvides  ...                              \n",
      "1        Alberto Villa  Jocelyn Chanussot  ...                              \n",
      "2         Tingyuan Nie       Tomoo Kisaka  ...                              \n",
      "3         Yilmaz Erdem         Ümit Totur  ...                              \n",
      "4  Sid-Ahmed Boukabara      Kevin Garrett  ...                              \n",
      "\n",
      "  author17 author18 author19 author20 author21 author22 author23  \n",
      "0                                                                 \n",
      "1                                                                 \n",
      "2                                                                 \n",
      "3                                                                 \n",
      "4                                                                 \n",
      "\n",
      "[5 rows x 31 columns]\n"
     ]
    }
   ],
   "source": [
    "dfPapers[\"author\"] += \",\" * 22\n",
    "for i in range(23):\n",
    "    dfPapers[\"author\" + str(i + 1)] = dfPapers[\"author\"].apply(\n",
    "        lambda x: x.split(\",\")[i]\n",
    "    )\n",
    "dfPapers[\"author\"] = dfPapers[\"author\"].apply(lambda x: x[:-6])\n",
    "print(dfPapers[:5])"
   ]
  },
  {
   "cell_type": "code",
   "execution_count": 14,
   "metadata": {},
   "outputs": [
    {
     "name": "stdout",
     "output_type": "stream",
     "text": [
      "                                                      author_x  \\\n",
      "author                                                           \n",
      "Daniel J. Paulish                            Daniel J. Paulish   \n",
      "José Cristóbal Riquelme Santos  José Cristóbal Riquelme Santos   \n",
      "Fernando C. N. Pereira                  Fernando C. N. Pereira   \n",
      "Juan de Lara                                      Juan de Lara   \n",
      "Stefano Lonardi                                Stefano Lonardi   \n",
      "\n",
      "                                            Interest1  \\\n",
      "author                                                  \n",
      "Daniel J. Paulish                software engineering   \n",
      "José Cristóbal Riquelme Santos        neural networks   \n",
      "Fernando C. N. Pereira               computer science   \n",
      "Juan de Lara                         computer science   \n",
      "Stefano Lonardi                 computational biology   \n",
      "\n",
      "                                                  Interest2  \\\n",
      "author                                                        \n",
      "Daniel J. Paulish                     software architecture   \n",
      "José Cristóbal Riquelme Santos             machine learning   \n",
      "Fernando C. N. Pereira          natural language processing   \n",
      "Juan de Lara                           software engineering   \n",
      "Stefano Lonardi                              bioinformatics   \n",
      "\n",
      "                                             Interest3 author_y paper1 paper2  \\\n",
      "author                                                                          \n",
      "Daniel J. Paulish                      software design                          \n",
      "José Cristóbal Riquelme Santos  evolutionary algorithm                          \n",
      "Fernando C. N. Pereira              speech recognition                          \n",
      "Juan de Lara                            model checking                          \n",
      "Stefano Lonardi                            data mining                          \n",
      "\n",
      "                               paper3 paper4 paper5  ... paper14 paper15  \\\n",
      "author                                               ...                   \n",
      "Daniel J. Paulish                                    ...                   \n",
      "José Cristóbal Riquelme Santos                       ...                   \n",
      "Fernando C. N. Pereira                               ...                   \n",
      "Juan de Lara                                         ...                   \n",
      "Stefano Lonardi                                      ...                   \n",
      "\n",
      "                               paper16 paper17 paper18 paper19 paper20  \\\n",
      "author                                                                   \n",
      "Daniel J. Paulish                                                        \n",
      "José Cristóbal Riquelme Santos                                           \n",
      "Fernando C. N. Pereira                                                   \n",
      "Juan de Lara                                                             \n",
      "Stefano Lonardi                                                          \n",
      "\n",
      "                               paper21 paper22 paper23  \n",
      "author                                                  \n",
      "Daniel J. Paulish                                       \n",
      "José Cristóbal Riquelme Santos                          \n",
      "Fernando C. N. Pereira                                  \n",
      "Juan de Lara                                            \n",
      "Stefano Lonardi                                         \n",
      "\n",
      "[5 rows x 28 columns]\n"
     ]
    }
   ],
   "source": [
    "for i in range(23):\n",
    "    t1 = (\n",
    "        dfPapers.groupby([f\"author{i+1}\"])[\"index\"]\n",
    "        .apply(lambda x: \":\".join(x))\n",
    "        .reset_index()\n",
    "    )\n",
    "    t1.columns = [\"author\", f\"paper{i+1}\"]\n",
    "    # print(t1)\n",
    "    dfTotal = pd.merge(\n",
    "        dfTotal, t1, left_index=True, right_on=\"author\", how=\"left\"\n",
    "    ).fillna(\"\")\n",
    "    dfTotal = dfTotal.set_index(\"author\")\n",
    "del t1\n",
    "print(dfTotal[:5])"
   ]
  },
  {
   "cell_type": "code",
   "execution_count": 15,
   "metadata": {},
   "outputs": [
    {
     "name": "stdout",
     "output_type": "stream",
     "text": [
      "                           author                        author_x  \\\n",
      "0               Daniel J. Paulish               Daniel J. Paulish   \n",
      "1  José Cristóbal Riquelme Santos  José Cristóbal Riquelme Santos   \n",
      "2          Fernando C. N. Pereira          Fernando C. N. Pereira   \n",
      "3                    Juan de Lara                    Juan de Lara   \n",
      "4                 Stefano Lonardi                 Stefano Lonardi   \n",
      "\n",
      "               Interest1                    Interest2               Interest3  \\\n",
      "0   software engineering        software architecture         software design   \n",
      "1        neural networks             machine learning  evolutionary algorithm   \n",
      "2       computer science  natural language processing      speech recognition   \n",
      "3       computer science         software engineering          model checking   \n",
      "4  computational biology               bioinformatics             data mining   \n",
      "\n",
      "  author_y paper1 paper2 paper3 paper4  ... cited14 cited15 cited16 cited17  \\\n",
      "0                                       ...                                   \n",
      "1                                       ...                                   \n",
      "2                                       ...                                   \n",
      "3                                       ...                                   \n",
      "4                                       ...                                   \n",
      "\n",
      "  cited18 cited19 cited20 cited21 cited22 cited23  \n",
      "0                                                  \n",
      "1                                                  \n",
      "2                                                  \n",
      "3                                                  \n",
      "4                                                  \n",
      "\n",
      "[5 rows x 52 columns]\n"
     ]
    }
   ],
   "source": [
    "for i in range(23):\n",
    "    t1 = (\n",
    "        dfPapers.groupby([f\"author{i+1}\"])[\"cited\"]\n",
    "        .apply(lambda x: \":\".join(x))\n",
    "        .reset_index()\n",
    "    )\n",
    "    # print(t1)\n",
    "    t1.columns = [\"author\", f\"cited{i+1}\"]\n",
    "    dfTotal = pd.merge(dfTotal, t1, on=[\"author\"], how=\"left\").fillna(\"\")\n",
    "del t1\n",
    "print(dfTotal[0:5])"
   ]
  },
  {
   "cell_type": "code",
   "execution_count": 16,
   "metadata": {},
   "outputs": [
    {
     "data": {
      "text/plain": [
       "'\\n### Slow Version\\n\\n# print(tfidf.shape) # (3053717, 34821) 行数为文档编号，列数为单词编号\\nprint(tfidf[1][0])\\ntfidf_weight_array = np.zeros([len(dfTotal), tfidf.shape[1]])\\n# print(dfTotal.shape) # there is 11367 authors\\n# print(dfPapers.shape) # there is 3053717 papers\\n# print(tfidf_weight_array.shape) # (11367, 34821)\\n\\nfor i in range(23):\\n    # for i in range(2):\\n    col_name = \"paper\" + str(i + 1)\\n    print(f\"Processing column name: {col_name}\")\\n    # for j in [0,1]:\\n    for j in dfTotal.index:\\n        paper_list = dfTotal.loc[j, col_name].split(\":\")\\n        # print(paperlist)\\n        for paper_index in paper_list:\\n            if paper_index == \"\":\\n                continue\\n            tfidf_weight = tfidf[int(paper_index)][0]\\n            # print(type(tfidf_weight)) # <class \\'scipy.sparse.csr.csr_matrix\\'>\\n            # print(tfidf_weight)\\n            for words in tfidf_weight.indices:\\n                # csr_matrix.indices表示各个数据在某行的下标，即第几列，下标从0开始\\n                # print(words)\\n                first_vec = tfidf_weight.getcol(words).data[0]\\n                if j < 7:\\n                    # csr_matrix.getcol(i),获得矩阵的第i列，返回一个列向量\\n                    tfidf_weight_array[j, words] = first_vec * (1 - 0.1 * j)\\n                else:\\n                    tfidf_weight_array[j, words] = first_vec * 0.3\\n\\nprint(tfidf_weight_array[:5, :])\\n'"
      ]
     },
     "execution_count": 16,
     "metadata": {},
     "output_type": "execute_result"
    }
   ],
   "source": [
    "'''\n",
    "### Slow Version\n",
    "\n",
    "# print(tfidf.shape) # (3053717, 34821) 行数为文档编号，列数为单词编号\n",
    "print(tfidf[1][0])\n",
    "tfidf_weight_array = np.zeros([len(dfTotal), tfidf.shape[1]])\n",
    "# print(dfTotal.shape) # there is 11367 authors\n",
    "# print(dfPapers.shape) # there is 3053717 papers\n",
    "# print(tfidf_weight_array.shape) # (11367, 34821)\n",
    "\n",
    "for i in range(23):\n",
    "    # for i in range(2):\n",
    "    col_name = \"paper\" + str(i + 1)\n",
    "    print(f\"Processing column name: {col_name}\")\n",
    "    # for j in [0,1]:\n",
    "    for j in dfTotal.index:\n",
    "        paper_list = dfTotal.loc[j, col_name].split(\":\")\n",
    "        # print(paperlist)\n",
    "        for paper_index in paper_list:\n",
    "            if paper_index == \"\":\n",
    "                continue\n",
    "            tfidf_weight = tfidf[int(paper_index)][0]\n",
    "            # print(type(tfidf_weight)) # <class 'scipy.sparse.csr.csr_matrix'>\n",
    "            # print(tfidf_weight)\n",
    "            for words in tfidf_weight.indices:\n",
    "                # csr_matrix.indices表示各个数据在某行的下标，即第几列，下标从0开始\n",
    "                # print(words)\n",
    "                first_vec = tfidf_weight.getcol(words).data[0]\n",
    "                if j < 7:\n",
    "                    # csr_matrix.getcol(i),获得矩阵的第i列，返回一个列向量\n",
    "                    tfidf_weight_array[j, words] = first_vec * (1 - 0.1 * j)\n",
    "                else:\n",
    "                    tfidf_weight_array[j, words] = first_vec * 0.3\n",
    "\n",
    "print(tfidf_weight_array[:5, :])\n",
    "'''"
   ]
  },
  {
   "cell_type": "code",
   "execution_count": null,
   "metadata": {},
   "outputs": [
    {
     "name": "stdout",
     "output_type": "stream",
     "text": [
      "Pre-building paper index and weights...\n",
      "Computing weighted vectors...\n",
      "[[0. 0. 0. ... 0. 0. 0.]\n",
      " [0. 0. 0. ... 0. 0. 0.]\n",
      " [0. 0. 0. ... 0. 0. 0.]\n",
      " [0. 0. 0. ... 0. 0. 0.]\n",
      " [0. 0. 0. ... 0. 0. 0.]]\n"
     ]
    }
   ],
   "source": [
    "### Quick Version\n",
    "\n",
    "import numpy as np\n",
    "\n",
    "num_authors = len(dfTotal)\n",
    "num_words = tfidf.shape[1]\n",
    "tfidf_weight_array = np.zeros((num_authors, num_words))\n",
    "\n",
    "# Step 1. 预构建作者的所有论文索引 + 权重\n",
    "print(\"Pre-building paper index and weights...\")\n",
    "author_paper_map = [[] for _ in range(num_authors)]\n",
    "author_weight_map = [[] for _ in range(num_authors)]\n",
    "\n",
    "for i in range(23):\n",
    "    col_name = f\"paper{i+1}\"\n",
    "    for j, paper_str in enumerate(dfTotal[col_name]):\n",
    "        if not paper_str:\n",
    "            continue\n",
    "        papers = paper_str.split(':')\n",
    "        for p in papers:\n",
    "            if not p:\n",
    "                continue\n",
    "            author_paper_map[j].append(int(p))\n",
    "            author_weight_map[j].append((1 - 0.1 * j) if j < 7 else 0.3)\n",
    "\n",
    "# Step 2. 向量化组合\n",
    "print(\"Computing weighted vectors...\")\n",
    "for j in range(num_authors):\n",
    "    if not author_paper_map[j]:\n",
    "        continue\n",
    "    papers_idx = author_paper_map[j]\n",
    "    weights = np.array(author_weight_map[j])\n",
    "    tfidf_subset = tfidf[papers_idx]  # 稀疏矩阵切片\n",
    "    weighted_sum = tfidf_subset.multiply(weights[:, None]).sum(axis=0)\n",
    "    tfidf_weight_array[j, :] = np.array(weighted_sum)\n",
    "\n",
    "print(tfidf_weight_array[:5, :])"
   ]
  },
  {
   "cell_type": "code",
   "execution_count": 18,
   "metadata": {},
   "outputs": [
    {
     "name": "stdout",
     "output_type": "stream",
     "text": [
      "<class 'numpy.ndarray'>\n",
      "[0. 0. 0. 0. 0. 0. 0. 0. 0. 0. 0. 0. 0. 0. 0. 0. 0. 0. 0. 0. 0. 0. 0. 0.\n",
      " 0. 0. 0. 0. 0. 0. 0. 0. 0. 0. 0. 0. 0. 0. 0. 0. 0. 0. 0. 0. 0. 0. 0. 0.\n",
      " 0. 0. 0. 0. 0. 0. 0. 0. 0. 0. 0. 0. 0. 0. 0. 0. 0. 0. 0. 0. 0. 0. 0. 0.\n",
      " 0. 0. 0. 0. 0. 0. 0. 0. 0. 0. 0. 0. 0. 0. 0. 0. 0. 0. 0. 0. 0. 0. 0. 0.\n",
      " 0. 0. 0. 0. 0. 0. 0. 0. 0. 0. 0. 0. 0. 0. 0. 0. 0. 0. 0. 0. 0. 0. 0. 0.\n",
      " 0. 0. 0. 0. 0. 0. 0. 0. 0. 0. 0. 0. 0. 0. 0. 0. 0. 0. 0. 0. 0. 0. 0. 0.\n",
      " 0. 0. 0. 0. 0. 0. 0. 0. 0. 0. 0. 0. 0. 0. 0. 0. 0. 0. 0. 0. 0. 0. 0. 0.\n",
      " 0. 0. 0. 0. 0. 0. 0. 0. 0. 0. 0. 0. 0. 0. 0. 0. 0. 0. 0. 0. 0. 0. 0. 0.\n",
      " 0. 0. 0. 0. 0. 0. 0. 0. 0. 0. 0. 0. 0. 0. 0. 0. 0. 0. 0. 0. 0. 0. 0. 0.\n",
      " 0. 0. 0. 0. 0. 0. 0. 0. 0. 0. 0. 0. 0. 0. 0. 0. 0. 0. 0. 0. 0. 0.]\n",
      "[[0. 0. 0. ... 0. 0. 0.]\n",
      " [0. 0. 0. ... 0. 0. 0.]\n",
      " [0. 0. 0. ... 0. 0. 0.]\n",
      " [0. 0. 0. ... 0. 0. 0.]\n",
      " [0. 0. 0. ... 0. 0. 0.]]\n"
     ]
    }
   ],
   "source": [
    "print(type(tfidf_weight_array))\n",
    "print(tfidf_weight_array[0, :])\n",
    "\n",
    "for i in range(7):\n",
    "    col_name = \"cited\" + str(i + 1)\n",
    "    for j in dfTotal.index:\n",
    "        paper_list = dfTotal.loc[j, col_name].split(\":\")\n",
    "        for paper_index in paper_list:\n",
    "            if paper_index == \"\":\n",
    "                continue\n",
    "            tfidf_weight = tfidf[int(paper_index)][0]\n",
    "            for words in tfidf_weight.indices:\n",
    "                # print(words)\n",
    "                tfidf_weight_array[j, words] = (\n",
    "                    tfidf_weight.getcol(words).data[0] * (1 - i * 0.1) * 0.1\n",
    "                )\n",
    "print(tfidf_weight_array[:5, :])"
   ]
  },
  {
   "cell_type": "code",
   "execution_count": 19,
   "metadata": {},
   "outputs": [
    {
     "name": "stdout",
     "output_type": "stream",
     "text": [
      "(9501, 789)\n",
      "[[0.1 0.1 0.1 ... 0.1 0.1 0.1]\n",
      " [0.1 0.1 0.1 ... 0.1 0.1 0.1]\n",
      " [0.1 0.1 0.1 ... 0.1 0.1 0.1]\n",
      " [0.1 0.1 0.1 ... 0.1 0.1 0.1]\n",
      " [0.1 0.1 0.1 ... 0.1 0.1 0.1]]\n"
     ]
    }
   ],
   "source": [
    "\"\"\"\n",
    "用keras 的普通的DNN训练\n",
    "共700+种class\n",
    "label里出现的class按出现顺序分别给 0.95 0.85 0.75 的分数，其他给0.1\n",
    "\"\"\"\n",
    "\n",
    "labels = pd.read_csv(\"data/labels.txt\", header=None)\n",
    "y_total = 0.1 * np.ones([len(dfTotal), len(labels)], dtype=\"float64\")\n",
    "print(y_total.shape)\n",
    "\n",
    "labels[\"idx\"] = labels.index\n",
    "labels.index = labels[0]\n",
    "labels.drop(0, axis=1, inplace=True)\n",
    "\n",
    "# print(dfTrain.iloc[1])\n",
    "# print(dfTrain.loc[1, 'interest1'])\n",
    "\n",
    "for idx in dfTrain.index:\n",
    "    for j in range(3):\n",
    "        score = 0.95 - 0.1 * j\n",
    "        y_total[idx, labels.loc[dfTrain.loc[idx, f\"Interest{j+1}\"], \"idx\"]] = score\n",
    "print(y_total[:5])"
   ]
  },
  {
   "cell_type": "code",
   "execution_count": 20,
   "metadata": {},
   "outputs": [
    {
     "name": "stdout",
     "output_type": "stream",
     "text": [
      "<class 'pandas.core.frame.DataFrame'>\n",
      "                        name\n",
      "idx                         \n",
      "0    abstract interpretation\n",
      "1             access control\n",
      "2             access network\n",
      "3            active learning\n",
      "4       activity recognition\n"
     ]
    }
   ],
   "source": [
    "id_to_labels = labels.copy()\n",
    "print(type(id_to_labels))\n",
    "id_to_labels[\"name\"] = id_to_labels.index\n",
    "id_to_labels.index = id_to_labels.idx\n",
    "id_to_labels.drop(\"idx\", inplace=True, axis=1)\n",
    "print(id_to_labels.iloc[:5])"
   ]
  },
  {
   "cell_type": "code",
   "execution_count": 21,
   "metadata": {
    "collapsed": true
   },
   "outputs": [
    {
     "name": "stdout",
     "output_type": "stream",
     "text": [
      "Class built okay\n"
     ]
    }
   ],
   "source": [
    "from keras.models import Sequential\n",
    "from keras.layers import Dense\n",
    "\n",
    "class Task2_Model:\n",
    "    def __init__(self, output_dim):\n",
    "        self.model = Sequential()\n",
    "        self.model.add(\n",
    "            Dense(\n",
    "                1000,\n",
    "                activation=\"relu\",\n",
    "                # input_dim=tfidf_weight_array.shape[1],\n",
    "            )\n",
    "        )\n",
    "        self.model.add(Dense(output_dim, activation=\"sigmoid\"))\n",
    "        self.model.compile(\n",
    "            loss=\"categorical_crossentropy\", optimizer=\"adadelta\", metrics=[\"acc\"]\n",
    "        )\n",
    "\n",
    "    def train_model(self, x_train, y_train, sp, epochs):\n",
    "        if sp < 1.0:\n",
    "            self.model.fit(\n",
    "                x_train[0 : int(len(x_train) * sp), :],\n",
    "                y_train[0 : int(len(x_train) * sp), :],\n",
    "                batch_size=32,\n",
    "                epochs=epochs,\n",
    "                validation_data=(\n",
    "                    x_train[int(len(x_train) * sp) :, :],\n",
    "                    y_train[int(len(y_train) * sp) :, :],\n",
    "                ),\n",
    "            )\n",
    "        elif sp == 1.0:\n",
    "            hist = self.model.fit(\n",
    "                x_train,\n",
    "                y_train,\n",
    "                batch_size=32,\n",
    "                epochs=epochs,\n",
    "                validation_data=(x_train, y_train),\n",
    "            )\n",
    "        else:\n",
    "            raise ValueError(\"Invalid sp\")\n",
    "        return hist\n",
    "\n",
    "    def save_model(self, path):\n",
    "        self.model.save(path + \"_1_lda.h5\")\n",
    "\n",
    "    def load_model(self, path):\n",
    "        self.model.load_weights(path + \"_1_lda.h5\")\n",
    "\n",
    "    def predict(self, fea1):\n",
    "        submission = list()\n",
    "        preds = self.model.predict(fea1)\n",
    "        for idx in range(len(fea1)):\n",
    "            a = np.argsort(preds[idx])[-5:]  # np.argsort升序排列并返回下标\n",
    "            # a_label = id_to_labels.ix[a].values  # ix 在 pandas 高版本中已经移除\n",
    "            a_label = id_to_labels.iloc[a].values\n",
    "            # print(a_label)\n",
    "            submission.append(a_label)\n",
    "        return submission\n",
    "\n",
    "    def getScore(self, X, y, idtolabel):\n",
    "        preds = self.model.predict(X)\n",
    "        score = 0\n",
    "        for idx in range(len(X)):\n",
    "            a = np.argsort(preds[idx])[-3:]\n",
    "            # a_label = idtolabel.ix[a].values  # ix 在 pandas 高版本中已经移除\n",
    "            a_label = idtolabel.iloc[a].values\n",
    "            # print(a_label)\n",
    "            for j in range(3):\n",
    "                for k in range(3):\n",
    "                    if a_label[j] == y[idx, k]:\n",
    "                        score += 1\n",
    "                        break\n",
    "        return score / len(X) / 3\n",
    "\n",
    "    def summary(self):\n",
    "        print(self.model.summary())\n",
    "\n",
    "print(\"Class built okay\")"
   ]
  },
  {
   "cell_type": "code",
   "execution_count": 22,
   "metadata": {},
   "outputs": [
    {
     "name": "stdout",
     "output_type": "stream",
     "text": [
      "Epoch 1/10\n",
      "\u001b[1m188/188\u001b[0m \u001b[32m━━━━━━━━━━━━━━━━━━━━\u001b[0m\u001b[37m\u001b[0m \u001b[1m2s\u001b[0m 6ms/step - acc: 0.3767 - loss: 5729.8506 - val_acc: 0.3753 - val_loss: 5446.0005\n",
      "Epoch 2/10\n",
      "\u001b[1m188/188\u001b[0m \u001b[32m━━━━━━━━━━━━━━━━━━━━\u001b[0m\u001b[37m\u001b[0m \u001b[1m1s\u001b[0m 5ms/step - acc: 0.3750 - loss: 5653.1714 - val_acc: 0.3750 - val_loss: 6097.3315\n",
      "Epoch 3/10\n",
      "\u001b[1m188/188\u001b[0m \u001b[32m━━━━━━━━━━━━━━━━━━━━\u001b[0m\u001b[37m\u001b[0m \u001b[1m1s\u001b[0m 5ms/step - acc: 0.3750 - loss: 7160.0513 - val_acc: 0.3752 - val_loss: 9967.5322\n",
      "Epoch 4/10\n",
      "\u001b[1m188/188\u001b[0m \u001b[32m━━━━━━━━━━━━━━━━━━━━\u001b[0m\u001b[37m\u001b[0m \u001b[1m1s\u001b[0m 5ms/step - acc: 0.3752 - loss: 16559.8262 - val_acc: 0.3752 - val_loss: 26681.0957\n",
      "Epoch 5/10\n",
      "\u001b[1m188/188\u001b[0m \u001b[32m━━━━━━━━━━━━━━━━━━━━\u001b[0m\u001b[37m\u001b[0m \u001b[1m1s\u001b[0m 5ms/step - acc: 0.3955 - loss: 237734.6719 - val_acc: 0.7500 - val_loss: 1049077.3750\n",
      "Epoch 6/10\n",
      "\u001b[1m188/188\u001b[0m \u001b[32m━━━━━━━━━━━━━━━━━━━━\u001b[0m\u001b[37m\u001b[0m \u001b[1m1s\u001b[0m 5ms/step - acc: 0.7500 - loss: 10308663.0000 - val_acc: 0.7500 - val_loss: 34884060.0000\n",
      "Epoch 7/10\n",
      "\u001b[1m188/188\u001b[0m \u001b[32m━━━━━━━━━━━━━━━━━━━━\u001b[0m\u001b[37m\u001b[0m \u001b[1m1s\u001b[0m 5ms/step - acc: 0.7500 - loss: 174705776.0000 - val_acc: 0.7500 - val_loss: 474170432.0000\n",
      "Epoch 8/10\n",
      "\u001b[1m188/188\u001b[0m \u001b[32m━━━━━━━━━━━━━━━━━━━━\u001b[0m\u001b[37m\u001b[0m \u001b[1m1s\u001b[0m 6ms/step - acc: 0.7500 - loss: 1657329792.0000 - val_acc: 0.7500 - val_loss: 3793974784.0000\n",
      "Epoch 9/10\n",
      "\u001b[1m188/188\u001b[0m \u001b[32m━━━━━━━━━━━━━━━━━━━━\u001b[0m\u001b[37m\u001b[0m \u001b[1m1s\u001b[0m 6ms/step - acc: 0.7500 - loss: 6225802752.0000 - val_acc: 0.7500 - val_loss: 8675769344.0000\n",
      "Epoch 10/10\n",
      "\u001b[1m188/188\u001b[0m \u001b[32m━━━━━━━━━━━━━━━━━━━━\u001b[0m\u001b[37m\u001b[0m \u001b[1m1s\u001b[0m 6ms/step - acc: 0.7500 - loss: 13243183104.0000 - val_acc: 0.7500 - val_loss: 20320548864.0000\n",
      "\u001b[1m110/110\u001b[0m \u001b[32m━━━━━━━━━━━━━━━━━━━━\u001b[0m\u001b[37m\u001b[0m \u001b[1m0s\u001b[0m 1ms/step  \n"
     ]
    }
   ],
   "source": [
    "model = Task2_Model(len(labels))\n",
    "\n",
    "# Train\n",
    "hist = model.train_model(tfidf_weight_array[:6000], y_total[:6000], sp=1, epochs=10)\n",
    "# print(model.getScore(tfidf_weight_array[4800:6000], dfTrain.ix[4800:6000,1:].values,idtolabels))\n",
    "\n",
    "# Predict\n",
    "submission = model.predict(tfidf_weight_array[6000:])"
   ]
  },
  {
   "cell_type": "code",
   "execution_count": null,
   "metadata": {
    "collapsed": true
   },
   "outputs": [
    {
     "data": {
      "image/png": "[encoded data removed]",
      "text/plain": [
       "<Figure size 800x400 with 2 Axes>"
      ]
     },
     "metadata": {},
     "output_type": "display_data"
    }
   ],
   "source": [
    "from matplotlib import pyplot as plt\n",
    "\n",
    "# the function plot loss and acc\n",
    "def training_vis(hist):\n",
    "    loss = hist.history['loss']\n",
    "    val_loss = hist.history['val_loss']\n",
    "    acc = hist.history['acc']\n",
    "    val_acc = hist.history['val_acc']\n",
    "\n",
    "    # make a figure\n",
    "    fig = plt.figure(figsize=(8,4))\n",
    "    # subplot loss\n",
    "    ax1 = fig.add_subplot(121)\n",
    "    ax1.plot(loss,label='train_loss')\n",
    "    ax1.plot(val_loss,label='val_loss')\n",
    "    ax1.set_xlabel('Epochs')\n",
    "    ax1.set_ylabel('Loss')\n",
    "    ax1.set_title('Loss on Training and Validation Data')\n",
    "    ax1.legend()\n",
    "    # subplot acc\n",
    "    ax2 = fig.add_subplot(122)\n",
    "    ax2.plot(acc,label='train_acc')\n",
    "    ax2.plot(val_acc,label='val_acc')\n",
    "    ax2.set_xlabel('Epochs')\n",
    "    ax2.set_ylabel('Accuracy')\n",
    "    ax2.set_title('Accuracy  on Training and Validation Data')\n",
    "    ax2.legend()\n",
    "    plt.tight_layout()\n",
    "\n",
    "training_vis(hist)"
   ]
  }
 ],
 "metadata": {
  "kernelspec": {
   "display_name": ".venv",
   "language": "python",
   "name": "python3"
  },
  "language_info": {
   "codemirror_mode": {
    "name": "ipython",
    "version": 3
   },
   "file_extension": ".py",
   "mimetype": "text/x-python",
   "name": "python",
   "nbconvert_exporter": "python",
   "pygments_lexer": "ipython3",
   "version": "3.12.9"
  }
 },
 "nbformat": 4,
 "nbformat_minor": 2
}
